{
 "cells": [
  {
   "cell_type": "code",
   "execution_count": null,
   "metadata": {},
   "outputs": [],
   "source": [
    "#Install the required packages.\n",
    "%pip install azure.kusto.data azure.kusto.ingest pandas openai"
   ]
  },
  {
   "attachments": {},
   "cell_type": "markdown",
   "metadata": {},
   "source": [
    "You need to execute the below function code in your ADX resource's Query editor. This creates a function [series_cosine_similarity_fl](https://learn.microsoft.com/en-us/azure/data-explorer/kusto/functions-library/series-cosine-similarity-fl) to perform vector similarity searches.\n",
    "\n",
    "```.create-or-alter function with (folder = \"Packages\\\\Series\", docstring = \"Calculate the Cosine similarity of 2 numerical arrays\")\n",
    "series_cosine_similarity_fl(vec1:dynamic, vec2:dynamic, vec1_size:real=double(null), vec2_size:real=double(null))\n",
    "{\n",
    "    let dp = series_dot_product(vec1, vec2);\n",
    "    let v1l = iff(isnull(vec1_size), sqrt(series_dot_product(vec1, vec1)), vec1_size);\n",
    "    let v2l = iff(isnull(vec2_size), sqrt(series_dot_product(vec2, vec2)), vec2_size);\n",
    "    dp/(v1l*v2l)\n",
    "}```"
   ]
  },
  {
   "cell_type": "code",
   "execution_count": 10,
   "metadata": {},
   "outputs": [],
   "source": [
    "from azure.kusto.data import KustoConnectionStringBuilder,KustoClient\n",
    "from azure.kusto.ingest import QueuedIngestClient, IngestionProperties\n",
    "from azure.kusto.data.data_format import DataFormat\n",
    "from azure.kusto.data.helpers import dataframe_from_result_table\n",
    "import openai\n",
    "import pandas as pd"
   ]
  },
  {
   "cell_type": "code",
   "execution_count": 3,
   "metadata": {},
   "outputs": [],
   "source": [
    "KUSTO_DATABASE = \"<DATABASE_NAME>\"\n",
    "TABLE_NAME = \"<TABLE_NAME>\" #We will be creating first then querying the same table\n",
    "cluster = \"<CLUSTER_URL>\"\n",
    "ingest_cluster = \"<CLUSTER_INGEST_URL>\"\n",
    "aad_app_id = \"<AAD_APP_ID>\"\n",
    "aad_app_key = \"<AAD_APP_SECRET>\"\n",
    "tenant_id =\"<TENANT_ID>\"\n",
    "connection_string = KustoConnectionStringBuilder.with_aad_application_key_authentication(\n",
    "    cluster, aad_app_id, aad_app_key,tenant_id)\n",
    "KUSTO_CLIENT = KustoClient(connection_string)\n",
    "#Cliengt for Ingestion - when we need ingest embedding in database\n",
    "kcsb = KustoConnectionStringBuilder.with_aad_application_key_authentication(ingest_cluster, aad_app_id, aad_app_key, tenant_id)\n",
    "ingestionclient = QueuedIngestClient(kcsb)"
   ]
  },
  {
   "attachments": {},
   "cell_type": "markdown",
   "metadata": {},
   "source": [
    "#When using Azure OpenAI then only below cell"
   ]
  },
  {
   "cell_type": "code",
   "execution_count": 7,
   "metadata": {},
   "outputs": [],
   "source": [
    "openai.api_key = \"<API_KEY>\"\n",
    "openai.api_type = \"azure\"\n",
    "openai.api_base = \"<ENDPOINT>\"\n",
    "openai.api_version = \"2022-12-01\"\n",
    "\n",
    "\n",
    "def embed(query):\n",
    "    # Creates embedding vector from user query\n",
    "    embedded_query = openai.Embedding.create(\n",
    "            input=query,\n",
    "            deployment_id=\"embed\", #replace with your deployment id\n",
    "            chunk_size=1\n",
    "    )[\"data\"][0][\"embedding\"]\n",
    "    return embedded_query"
   ]
  },
  {
   "attachments": {},
   "cell_type": "markdown",
   "metadata": {},
   "source": [
    "#When using OpenAI execute below cell"
   ]
  },
  {
   "cell_type": "code",
   "execution_count": 8,
   "metadata": {},
   "outputs": [],
   "source": [
    "openai.api_key = \"<API_KEY>\"\n",
    "\n",
    "def embed(query):\n",
    "    # Creates embedding vector from user query\n",
    "    embedded_query = openai.Embedding.create(\n",
    "        input=query,\n",
    "        model=\"text-embedding-curie-001\",\n",
    "    )[\"data\"][0][\"embedding\"]\n",
    "    return embedded_query"
   ]
  },
  {
   "cell_type": "code",
   "execution_count": null,
   "metadata": {},
   "outputs": [],
   "source": [
    "def createTableAdx(table_name):\n",
    "  try:\n",
    "    CREATE_TABLE_COMMAND = f\".create table {table_name} (Content: string, Embeddings: dynamic)\"\n",
    "    RESPONSE = KUSTO_CLIENT.execute_mgmt(KUSTO_DATABASE, CREATE_TABLE_COMMAND)\n",
    "    print(f\"{RESPONSE}\")\n",
    "    return True\n",
    "  except:\n",
    "    return False\n",
    "\n",
    "def EmbedList(content):\n",
    "    resultList = []\n",
    "    for page in content:\n",
    "      Content = page\n",
    "      Embeddings = embed(page)\n",
    "      myList = [Content, Embeddings]\n",
    "      resultList.append(myList)\n",
    "    df = pd.DataFrame(resultList, columns=['Content', 'Embeddings'])\n",
    "    return df"
   ]
  },
  {
   "cell_type": "code",
   "execution_count": null,
   "metadata": {},
   "outputs": [],
   "source": [
    "doc_content = [\"\"\"Mahatma Gandhi, born on October 2, 1869, in Porbandar, India, was a prominent leader and a key figure in India's struggle for independence from British rule. His philosophy of nonviolence, Satyagraha, became a powerful weapon in the fight against injustice and oppression. Gandhi's teachings emphasized the importance of truth, self-discipline, and compassion towards all beings. He led several nonviolent movements, including the famous Salt March, and inspired millions of people with his principles of peace and harmony. Gandhi was tragically assassinated on January 30, 1948, but his legacy as the \"Father of the Nation\" continues to inspire generations around the world.\"\"\",\n",
    "               \"\"\"Abraham Lincoln, born on February 12, 1809, in Kentucky, United States, was the 16th President of the United States. He is best known for his leadership during the American Civil War and his efforts to abolish slavery. Lincoln's Emancipation Proclamation in 1863 declared slaves in Confederate territories free and paved the way for the eventual end of slavery. He delivered the historic Gettysburg Address in 1863, emphasizing the importance of preserving the Union and honoring those who fought for freedom. Lincoln was assassinated on April 14, 1865, by John Wilkes Booth, leaving a lasting impact on American history as one of its most revered presidents.\"\"\",\n",
    "               \"\"\"Nelson Mandela, born on July 18, 1918, in Mvezo, South Africa, was a prominent anti-apartheid activist and the first black President of South Africa. Mandela dedicated his life to fighting against racial segregation and inequality. He spent 27 years in prison for his activism and emerged as a symbol of resistance and reconciliation. Mandela played a crucial role in dismantling apartheid and fostering a peaceful transition to democracy in South Africa. His leadership and commitment to forgiveness and unity earned him worldwide respect, and he was awarded the Nobel Peace Prize in 1993. Nelson Mandela passed away on December 5, 2013, leaving a legacy as a global icon of justice and equality.\"\"\"]"
   ]
  },
  {
   "cell_type": "code",
   "execution_count": null,
   "metadata": {},
   "outputs": [],
   "source": [
    "pd_df = EmbedList(doc_content)\n",
    "\n",
    "ingestion_props = IngestionProperties(\n",
    "    database=KUSTO_DATABASE,\n",
    "    table=TABLE_NAME,\n",
    "    data_format=DataFormat.CSV,\n",
    ")\n",
    "if createTableAdx(table_name=TABLE_NAME):\n",
    "    print(f\"{TABLE_NAME} Created.\")\n",
    "    #Once table is created write the content\n",
    "    ingestionclient.ingest_from_dataframe(pd_df, ingestion_properties=ingestion_props)\n",
    "else:\n",
    "    print(f\"Failed to create table {TABLE_NAME}.\")"
   ]
  },
  {
   "cell_type": "code",
   "execution_count": null,
   "metadata": {},
   "outputs": [],
   "source": [
    "searchedEmbedding=\"When was Abraham Lincon born\"\n",
    "\n",
    "KUSTO_QUERY = f\"{TABLE_NAME} | extend similarity = series_cosine_similarity_fl(dynamic(\"+str(searchedEmbedding)+\"),Embeddings,1,1) | top 3 by similarity desc \"\n",
    "RESPONSE = KUSTO_CLIENT.execute(KUSTO_DATABASE, KUSTO_QUERY)\n",
    "df = dataframe_from_result_table(RESPONSE.primary_results[0])\n",
    "content = \"\\n\".join(df['Content'])"
   ]
  },
  {
   "cell_type": "code",
   "execution_count": null,
   "metadata": {},
   "outputs": [],
   "source": [
    "prompt_template = f\"\"\"Use the following pieces of context to answer the question at the end. If you don't know the answer, just say that you don't know, don't try to make up an answer.\n",
    "\n",
    "    {content}\n",
    "\n",
    "    Question: {searchedEmbedding}\n",
    "    Answer:\"\"\"\n",
    "\n",
    "completion = openai.Completion.create(deployment_id=\"completion\",\n",
    "                                     prompt=prompt_template, stop=\".\", temperature=0)\n"
   ]
  }
 ],
 "metadata": {
  "kernelspec": {
   "display_name": "Python 3",
   "language": "python",
   "name": "python3"
  },
  "language_info": {
   "codemirror_mode": {
    "name": "ipython",
    "version": 3
   },
   "file_extension": ".py",
   "mimetype": "text/x-python",
   "name": "python",
   "nbconvert_exporter": "python",
   "pygments_lexer": "ipython3",
   "version": "3.10.11"
  },
  "orig_nbformat": 4
 },
 "nbformat": 4,
 "nbformat_minor": 2
}
